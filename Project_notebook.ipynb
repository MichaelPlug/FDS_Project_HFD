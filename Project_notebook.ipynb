{
 "cells": [
  {
   "cell_type": "markdown",
   "id": "2ebbf93b",
   "metadata": {},
   "source": [
    "# FDS project 21/22 - Heart Disease Prediction\n",
    "\n",
    "### Authors\n",
    "- Elios Buzo\n",
    "- Laurentiu Adrian Crsturean\n",
    "- Anthony Giusti\n",
    "- Ludovico Lentini\n",
    "- Michele Spina"
   ]
  },
  {
   "cell_type": "markdown",
   "id": "64ffb7f3",
   "metadata": {},
   "source": [
    "# Clean and analyze the dataset"
   ]
  },
  {
   "cell_type": "markdown",
   "id": "0134f47f",
   "metadata": {},
   "source": [
    "## A first look"
   ]
  },
  {
   "cell_type": "markdown",
   "id": "ec8d55ce",
   "metadata": {},
   "source": [
    "### What type of thata there are"
   ]
  },
  {
   "cell_type": "code",
   "execution_count": 1,
   "id": "231f60af",
   "metadata": {},
   "outputs": [],
   "source": [
    "import pandas as pd\n",
    "import numpy as np\n",
    "import matplotlib.pyplot as plt\n",
    "import seaborn as sns\n",
    "\n",
    "from sklearn.model_selection import train_test_split\n",
    "from sklearn.linear_model import LogisticRegression\n",
    "from sklearn.metrics import plot_confusion_matrix\n",
    "from sklearn import metrics"
   ]
  },
  {
   "cell_type": "code",
   "execution_count": 2,
   "id": "1a1c6795",
   "metadata": {},
   "outputs": [
    {
     "data": {
      "text/plain": [
       "Age               0\n",
       "Sex               0\n",
       "ChestPainType     0\n",
       "RestingBP         0\n",
       "Cholesterol       0\n",
       "FastingBS         0\n",
       "RestingECG        0\n",
       "MaxHR             0\n",
       "ExerciseAngina    0\n",
       "Oldpeak           0\n",
       "ST_Slope          0\n",
       "HeartDisease      0\n",
       "dtype: int64"
      ]
     },
     "execution_count": 2,
     "metadata": {},
     "output_type": "execute_result"
    }
   ],
   "source": [
    "#Import the original dataset\n",
    "df = pd.read_csv('dataset.csv')\n",
    "#df.head()\n",
    "\n",
    "#Print the number of null values\n",
    "df.isnull().sum()\n",
    "#df.info()"
   ]
  },
  {
   "cell_type": "code",
   "execution_count": 3,
   "id": "1924ac96",
   "metadata": {},
   "outputs": [
    {
     "name": "stdout",
     "output_type": "stream",
     "text": [
      "<class 'pandas.core.frame.DataFrame'>\n",
      "RangeIndex: 918 entries, 0 to 917\n",
      "Data columns (total 12 columns):\n",
      " #   Column          Non-Null Count  Dtype  \n",
      "---  ------          --------------  -----  \n",
      " 0   Age             918 non-null    int64  \n",
      " 1   Sex             918 non-null    object \n",
      " 2   ChestPainType   918 non-null    object \n",
      " 3   RestingBP       918 non-null    int64  \n",
      " 4   Cholesterol     918 non-null    int64  \n",
      " 5   FastingBS       918 non-null    int64  \n",
      " 6   RestingECG      918 non-null    object \n",
      " 7   MaxHR           918 non-null    int64  \n",
      " 8   ExerciseAngina  918 non-null    object \n",
      " 9   Oldpeak         918 non-null    float64\n",
      " 10  ST_Slope        918 non-null    object \n",
      " 11  HeartDisease    918 non-null    int64  \n",
      "dtypes: float64(1), int64(6), object(5)\n",
      "memory usage: 86.2+ KB\n"
     ]
    }
   ],
   "source": [
    "df.info()"
   ]
  },
  {
   "cell_type": "markdown",
   "id": "68eaf2ef",
   "metadata": {},
   "source": [
    "We can immediatly observe that there are some categorical values and there isn't null values, but we must analyze if all the data are consistent"
   ]
  },
  {
   "cell_type": "code",
   "execution_count": 4,
   "id": "b6a90ad2",
   "metadata": {},
   "outputs": [
    {
     "data": {
      "text/html": [
       "<div>\n",
       "<style scoped>\n",
       "    .dataframe tbody tr th:only-of-type {\n",
       "        vertical-align: middle;\n",
       "    }\n",
       "\n",
       "    .dataframe tbody tr th {\n",
       "        vertical-align: top;\n",
       "    }\n",
       "\n",
       "    .dataframe thead th {\n",
       "        text-align: right;\n",
       "    }\n",
       "</style>\n",
       "<table border=\"1\" class=\"dataframe\">\n",
       "  <thead>\n",
       "    <tr style=\"text-align: right;\">\n",
       "      <th></th>\n",
       "      <th>Age</th>\n",
       "      <th>Sex</th>\n",
       "      <th>ChestPainType</th>\n",
       "      <th>RestingBP</th>\n",
       "      <th>Cholesterol</th>\n",
       "      <th>FastingBS</th>\n",
       "      <th>RestingECG</th>\n",
       "      <th>MaxHR</th>\n",
       "      <th>ExerciseAngina</th>\n",
       "      <th>Oldpeak</th>\n",
       "      <th>ST_Slope</th>\n",
       "      <th>HeartDisease</th>\n",
       "    </tr>\n",
       "  </thead>\n",
       "  <tbody>\n",
       "    <tr>\n",
       "      <th>count</th>\n",
       "      <td>918.000000</td>\n",
       "      <td>918</td>\n",
       "      <td>918</td>\n",
       "      <td>918.000000</td>\n",
       "      <td>918.000000</td>\n",
       "      <td>918.000000</td>\n",
       "      <td>918</td>\n",
       "      <td>918.000000</td>\n",
       "      <td>918</td>\n",
       "      <td>918.000000</td>\n",
       "      <td>918</td>\n",
       "      <td>918.000000</td>\n",
       "    </tr>\n",
       "    <tr>\n",
       "      <th>unique</th>\n",
       "      <td>NaN</td>\n",
       "      <td>2</td>\n",
       "      <td>4</td>\n",
       "      <td>NaN</td>\n",
       "      <td>NaN</td>\n",
       "      <td>NaN</td>\n",
       "      <td>3</td>\n",
       "      <td>NaN</td>\n",
       "      <td>2</td>\n",
       "      <td>NaN</td>\n",
       "      <td>3</td>\n",
       "      <td>NaN</td>\n",
       "    </tr>\n",
       "    <tr>\n",
       "      <th>top</th>\n",
       "      <td>NaN</td>\n",
       "      <td>M</td>\n",
       "      <td>ASY</td>\n",
       "      <td>NaN</td>\n",
       "      <td>NaN</td>\n",
       "      <td>NaN</td>\n",
       "      <td>Normal</td>\n",
       "      <td>NaN</td>\n",
       "      <td>N</td>\n",
       "      <td>NaN</td>\n",
       "      <td>Flat</td>\n",
       "      <td>NaN</td>\n",
       "    </tr>\n",
       "    <tr>\n",
       "      <th>freq</th>\n",
       "      <td>NaN</td>\n",
       "      <td>725</td>\n",
       "      <td>496</td>\n",
       "      <td>NaN</td>\n",
       "      <td>NaN</td>\n",
       "      <td>NaN</td>\n",
       "      <td>552</td>\n",
       "      <td>NaN</td>\n",
       "      <td>547</td>\n",
       "      <td>NaN</td>\n",
       "      <td>460</td>\n",
       "      <td>NaN</td>\n",
       "    </tr>\n",
       "    <tr>\n",
       "      <th>mean</th>\n",
       "      <td>53.510893</td>\n",
       "      <td>NaN</td>\n",
       "      <td>NaN</td>\n",
       "      <td>132.396514</td>\n",
       "      <td>198.799564</td>\n",
       "      <td>0.233115</td>\n",
       "      <td>NaN</td>\n",
       "      <td>136.809368</td>\n",
       "      <td>NaN</td>\n",
       "      <td>0.887364</td>\n",
       "      <td>NaN</td>\n",
       "      <td>0.553377</td>\n",
       "    </tr>\n",
       "    <tr>\n",
       "      <th>std</th>\n",
       "      <td>9.432617</td>\n",
       "      <td>NaN</td>\n",
       "      <td>NaN</td>\n",
       "      <td>18.514154</td>\n",
       "      <td>109.384145</td>\n",
       "      <td>0.423046</td>\n",
       "      <td>NaN</td>\n",
       "      <td>25.460334</td>\n",
       "      <td>NaN</td>\n",
       "      <td>1.066570</td>\n",
       "      <td>NaN</td>\n",
       "      <td>0.497414</td>\n",
       "    </tr>\n",
       "    <tr>\n",
       "      <th>min</th>\n",
       "      <td>28.000000</td>\n",
       "      <td>NaN</td>\n",
       "      <td>NaN</td>\n",
       "      <td>0.000000</td>\n",
       "      <td>0.000000</td>\n",
       "      <td>0.000000</td>\n",
       "      <td>NaN</td>\n",
       "      <td>60.000000</td>\n",
       "      <td>NaN</td>\n",
       "      <td>-2.600000</td>\n",
       "      <td>NaN</td>\n",
       "      <td>0.000000</td>\n",
       "    </tr>\n",
       "    <tr>\n",
       "      <th>25%</th>\n",
       "      <td>47.000000</td>\n",
       "      <td>NaN</td>\n",
       "      <td>NaN</td>\n",
       "      <td>120.000000</td>\n",
       "      <td>173.250000</td>\n",
       "      <td>0.000000</td>\n",
       "      <td>NaN</td>\n",
       "      <td>120.000000</td>\n",
       "      <td>NaN</td>\n",
       "      <td>0.000000</td>\n",
       "      <td>NaN</td>\n",
       "      <td>0.000000</td>\n",
       "    </tr>\n",
       "    <tr>\n",
       "      <th>50%</th>\n",
       "      <td>54.000000</td>\n",
       "      <td>NaN</td>\n",
       "      <td>NaN</td>\n",
       "      <td>130.000000</td>\n",
       "      <td>223.000000</td>\n",
       "      <td>0.000000</td>\n",
       "      <td>NaN</td>\n",
       "      <td>138.000000</td>\n",
       "      <td>NaN</td>\n",
       "      <td>0.600000</td>\n",
       "      <td>NaN</td>\n",
       "      <td>1.000000</td>\n",
       "    </tr>\n",
       "    <tr>\n",
       "      <th>75%</th>\n",
       "      <td>60.000000</td>\n",
       "      <td>NaN</td>\n",
       "      <td>NaN</td>\n",
       "      <td>140.000000</td>\n",
       "      <td>267.000000</td>\n",
       "      <td>0.000000</td>\n",
       "      <td>NaN</td>\n",
       "      <td>156.000000</td>\n",
       "      <td>NaN</td>\n",
       "      <td>1.500000</td>\n",
       "      <td>NaN</td>\n",
       "      <td>1.000000</td>\n",
       "    </tr>\n",
       "    <tr>\n",
       "      <th>max</th>\n",
       "      <td>77.000000</td>\n",
       "      <td>NaN</td>\n",
       "      <td>NaN</td>\n",
       "      <td>200.000000</td>\n",
       "      <td>603.000000</td>\n",
       "      <td>1.000000</td>\n",
       "      <td>NaN</td>\n",
       "      <td>202.000000</td>\n",
       "      <td>NaN</td>\n",
       "      <td>6.200000</td>\n",
       "      <td>NaN</td>\n",
       "      <td>1.000000</td>\n",
       "    </tr>\n",
       "  </tbody>\n",
       "</table>\n",
       "</div>"
      ],
      "text/plain": [
       "               Age  Sex ChestPainType   RestingBP  Cholesterol   FastingBS  \\\n",
       "count   918.000000  918           918  918.000000   918.000000  918.000000   \n",
       "unique         NaN    2             4         NaN          NaN         NaN   \n",
       "top            NaN    M           ASY         NaN          NaN         NaN   \n",
       "freq           NaN  725           496         NaN          NaN         NaN   \n",
       "mean     53.510893  NaN           NaN  132.396514   198.799564    0.233115   \n",
       "std       9.432617  NaN           NaN   18.514154   109.384145    0.423046   \n",
       "min      28.000000  NaN           NaN    0.000000     0.000000    0.000000   \n",
       "25%      47.000000  NaN           NaN  120.000000   173.250000    0.000000   \n",
       "50%      54.000000  NaN           NaN  130.000000   223.000000    0.000000   \n",
       "75%      60.000000  NaN           NaN  140.000000   267.000000    0.000000   \n",
       "max      77.000000  NaN           NaN  200.000000   603.000000    1.000000   \n",
       "\n",
       "       RestingECG       MaxHR ExerciseAngina     Oldpeak ST_Slope  \\\n",
       "count         918  918.000000            918  918.000000      918   \n",
       "unique          3         NaN              2         NaN        3   \n",
       "top        Normal         NaN              N         NaN     Flat   \n",
       "freq          552         NaN            547         NaN      460   \n",
       "mean          NaN  136.809368            NaN    0.887364      NaN   \n",
       "std           NaN   25.460334            NaN    1.066570      NaN   \n",
       "min           NaN   60.000000            NaN   -2.600000      NaN   \n",
       "25%           NaN  120.000000            NaN    0.000000      NaN   \n",
       "50%           NaN  138.000000            NaN    0.600000      NaN   \n",
       "75%           NaN  156.000000            NaN    1.500000      NaN   \n",
       "max           NaN  202.000000            NaN    6.200000      NaN   \n",
       "\n",
       "        HeartDisease  \n",
       "count     918.000000  \n",
       "unique           NaN  \n",
       "top              NaN  \n",
       "freq             NaN  \n",
       "mean        0.553377  \n",
       "std         0.497414  \n",
       "min         0.000000  \n",
       "25%         0.000000  \n",
       "50%         1.000000  \n",
       "75%         1.000000  \n",
       "max         1.000000  "
      ]
     },
     "execution_count": 4,
     "metadata": {},
     "output_type": "execute_result"
    }
   ],
   "source": [
    "df.describe(include = 'all')"
   ]
  },
  {
   "cell_type": "markdown",
   "id": "72b478dd",
   "metadata": {},
   "source": [
    "The minimum value for the attribute **Cholesterol** and **RestingBP** is 0 and it isn't consisten."
   ]
  },
  {
   "cell_type": "code",
   "execution_count": 5,
   "id": "c345ec4f",
   "metadata": {
    "scrolled": true
   },
   "outputs": [
    {
     "name": "stdout",
     "output_type": "stream",
     "text": [
      "172\n"
     ]
    }
   ],
   "source": [
    "print(np.sum(np.asarray(df[\"Cholesterol\"] == 0)))"
   ]
  },
  {
   "cell_type": "code",
   "execution_count": 6,
   "id": "ed1f8bb7",
   "metadata": {},
   "outputs": [
    {
     "name": "stdout",
     "output_type": "stream",
     "text": [
      "1\n"
     ]
    }
   ],
   "source": [
    "print(np.sum(np.asarray(df[\"RestingBP\"] == 0)))"
   ]
  },
  {
   "cell_type": "markdown",
   "id": "17d8e530",
   "metadata": {},
   "source": [
    "### How data are distributed"
   ]
  },
  {
   "cell_type": "markdown",
   "id": "b92457c9",
   "metadata": {},
   "source": [
    "The same graphs but in only one plot"
   ]
  },
  {
   "cell_type": "markdown",
   "id": "7aa8f053",
   "metadata": {},
   "source": [
    "#Plotting all the Features \n",
    "fig, axs = plt.subplots(4,3, figsize=(15,15))\n",
    "oe=['g','r']\n",
    "\n",
    "#1 row graph\n",
    "#Age\n",
    "sns.histplot(df['Age'],kde=True,bins=15, ax=axs[0,0], hue=\"HeartDisease\",multiple=\"stack\",palette=oe).set(xlabel='Age', ylabel='Count')\n",
    "#Sex\n",
    "sns.histplot(x='Sex',stat='percent',discrete = True, data=df2, ax=axs[0,1])\n",
    "#ChestpainType\n",
    "sns.histplot(x='ChestPainType',stat='percent', data=df2, ax=axs[0,2])\n",
    "\n",
    "#2 row graph\n",
    "#RestingBP\n",
    "sns.histplot(df2['RestingBP'],kde=True,bins=15, ax=axs[1,0]).set(xlabel='RestingBP', ylabel='Count')\n",
    "#Cholesterol\n",
    "sns.histplot(df2['Cholesterol'],kde=True,bins=15, ax=axs[1,1]).set(xlabel='Cholesterol', ylabel='Count')\n",
    "#FastingBS\n",
    "sns.histplot(x='FastingBS',stat='percent',discrete=True, data=df2, ax=axs[1,2])\n",
    "\n",
    "#3 row graph\n",
    "#RestingECG\n",
    "sns.histplot(x='RestingECG',stat='percent',discrete=True, data=df2, ax=axs[2,0])\n",
    "#MaxHR\n",
    "sns.histplot(df2['MaxHR'],kde=True,bins=15, ax=axs[2,1]).set(xlabel='MaxHR', ylabel='Count')\n",
    "#ExerciseAngina\n",
    "sns.histplot(x='ExerciseAngina',stat='percent',discrete=True, data=df2, ax=axs[2,2])\n",
    "\n",
    "#4 row graph\n",
    "#Oldpeak\n",
    "sns.histplot(df2['Oldpeak'],bins=30, ax=axs[3,0]).set(xlabel='Oldpeak', ylabel='Count')\n",
    "#ST_Slope\n",
    "sns.histplot(x='ST_Slope',stat='percent',discrete=True, data=df2, ax=axs[3,1])\n",
    "#HeartDisease\n",
    "sns.histplot(x='HeartDisease',stat='percent',discrete=True, data=df2, ax=axs[3,2])\n",
    "\n",
    "\n",
    "fig.tight_layout(pad=3.0) \n",
    "plt.savefig('EDA_graphs.png', facecolor = 'w')\n",
    "plt.show()"
   ]
  },
  {
   "cell_type": "code",
   "execution_count": 7,
   "id": "ca70a277",
   "metadata": {},
   "outputs": [
    {
     "data": {
      "text/plain": [
       "<AxesSubplot:xlabel='FastingBS', ylabel='Count'>"
      ]
     },
     "execution_count": 7,
     "metadata": {},
     "output_type": "execute_result"
    },
    {
     "data": {
      "image/png": "[encoded data removed]",
      "text/plain": [
       "<Figure size 1080x1080 with 12 Axes>"
      ]
     },
     "metadata": {
      "needs_background": "light"
     },
     "output_type": "display_data"
    }
   ],
   "source": [
    "oe=['g','r']\n",
    "fig = plt.figure(figsize=(15,15))\n",
    "\n",
    "plt.subplot(4,3,1)\n",
    "plt.style.use('seaborn')\n",
    "plt.tight_layout()\n",
    "sns.set_context('talk')\n",
    "sns.histplot(data=df, x=\"HeartDisease\", hue=\"HeartDisease\",multiple=\"stack\",palette=oe)\n",
    "\n",
    "plt.subplot(4,3,2)\n",
    "plt.style.use('seaborn')\n",
    "plt.tight_layout()\n",
    "sns.set_context('talk')\n",
    "sns.histplot(data=df, x=\"Sex\", hue=\"HeartDisease\",multiple=\"stack\",palette=oe)\n",
    "\n",
    "plt.subplot(4,3,3)\n",
    "plt.style.use('seaborn')\n",
    "plt.tight_layout()\n",
    "sns.set_context('talk')\n",
    "sns.histplot(data=df, x=\"ChestPainType\", hue=\"HeartDisease\",multiple=\"stack\",palette=oe)\n",
    "\n",
    "plt.subplot(4,3,4)\n",
    "plt.style.use('seaborn')\n",
    "plt.tight_layout()\n",
    "sns.set_context('talk')\n",
    "sns.histplot(data=df, x=\"ExerciseAngina\", hue=\"HeartDisease\",multiple=\"stack\",palette=oe)\n",
    "\n",
    "plt.subplot(4,3,5)\n",
    "plt.style.use('seaborn')\n",
    "plt.tight_layout()\n",
    "sns.set_context('talk')\n",
    "sns.histplot(data=df, x=\"RestingECG\", hue=\"HeartDisease\",multiple=\"stack\",palette=oe)\n",
    "\n",
    "plt.subplot(4,3,6)\n",
    "plt.style.use('seaborn')\n",
    "plt.tight_layout()\n",
    "sns.set_context('talk')\n",
    "sns.histplot(data=df, x=\"ST_Slope\", hue=\"HeartDisease\",multiple=\"stack\",palette=oe)\n",
    "\n",
    "plt.subplot(4,3,7)\n",
    "plt.style.use('seaborn')\n",
    "plt.tight_layout()\n",
    "sns.set_context('talk')\n",
    "sns.histplot(data=df, x=\"Cholesterol\", hue=\"HeartDisease\",multiple=\"stack\",palette=oe)\n",
    "\n",
    "plt.subplot(4,3,8)\n",
    "plt.style.use('seaborn')\n",
    "plt.tight_layout()\n",
    "sns.set_context('talk')\n",
    "sns.histplot(data=df, x=\"RestingBP\", hue=\"HeartDisease\",multiple=\"stack\",palette=oe)\n",
    "\n",
    "plt.subplot(4,3,9)\n",
    "plt.style.use('seaborn')\n",
    "plt.tight_layout()\n",
    "sns.set_context('talk')\n",
    "sns.histplot(data=df, x=\"Age\", hue=\"HeartDisease\",multiple=\"stack\",palette=oe)\n",
    "\n",
    "plt.subplot(4,3,10)\n",
    "plt.style.use('seaborn')\n",
    "plt.tight_layout()\n",
    "sns.set_context('talk')\n",
    "sns.histplot(data=df, x=\"MaxHR\", hue=\"HeartDisease\",multiple=\"stack\",palette=oe)\n",
    "\n",
    "plt.subplot(4,3,11)\n",
    "plt.style.use('seaborn')\n",
    "plt.tight_layout()\n",
    "sns.set_context('talk')\n",
    "sns.histplot(data=df, x=\"Oldpeak\", hue=\"HeartDisease\",multiple=\"stack\",palette=oe)\n",
    "\n",
    "plt.subplot(4,3,12)\n",
    "plt.style.use('seaborn')\n",
    "plt.tight_layout()\n",
    "sns.set_context('talk')\n",
    "sns.histplot(data=df, x=\"FastingBS\", hue=\"HeartDisease\",multiple=\"stack\",palette=oe)\n"
   ]
  },
  {
   "cell_type": "code",
   "execution_count": null,
   "id": "62bc6e73",
   "metadata": {},
   "outputs": [
    {
     "data": {
      "text/plain": [
       "<AxesSubplot:xlabel='FastingBS', ylabel='Count'>"
      ]
     },
     "execution_count": 8,
     "metadata": {},
     "output_type": "execute_result"
    }
   ],
   "source": [
    "oe=['g','r']\n",
    "fig = plt.figure(figsize=(15,15))\n",
    "\n",
    "plt.subplot(4,3,1)\n",
    "plt.style.use('seaborn')\n",
    "plt.tight_layout()\n",
    "sns.set_context('talk')\n",
    "sns.histplot(data=df, x=\"HeartDisease\", hue=\"HeartDisease\",multiple=\"stack\",palette=oe)\n",
    "\n",
    "plt.subplot(4,3,2)\n",
    "plt.style.use('seaborn')\n",
    "plt.tight_layout()\n",
    "sns.set_context('talk')\n",
    "sns.histplot(data=df, x=\"Sex\", hue=\"HeartDisease\",multiple=\"stack\",palette=oe)\n",
    "\n",
    "plt.subplot(4,3,3)\n",
    "plt.style.use('seaborn')\n",
    "plt.tight_layout()\n",
    "sns.set_context('talk')\n",
    "sns.histplot(data=df, x=\"ChestPainType\", hue=\"HeartDisease\",multiple=\"stack\",palette=oe)\n",
    "\n",
    "plt.subplot(4,3,4)\n",
    "plt.style.use('seaborn')\n",
    "plt.tight_layout()\n",
    "sns.set_context('talk')\n",
    "sns.histplot(data=df, x=\"ExerciseAngina\", hue=\"HeartDisease\",multiple=\"stack\",palette=oe)\n",
    "\n",
    "plt.subplot(4,3,5)\n",
    "plt.style.use('seaborn')\n",
    "plt.tight_layout()\n",
    "sns.set_context('talk')\n",
    "sns.histplot(data=df, x=\"RestingECG\", hue=\"HeartDisease\",multiple=\"stack\",palette=oe)\n",
    "\n",
    "plt.subplot(4,3,6)\n",
    "plt.style.use('seaborn')\n",
    "plt.tight_layout()\n",
    "sns.set_context('talk')\n",
    "sns.histplot(data=df, x=\"ST_Slope\", hue=\"HeartDisease\",multiple=\"stack\",palette=oe)\n",
    "\n",
    "plt.subplot(4,3,7)\n",
    "plt.style.use('seaborn')\n",
    "plt.tight_layout()\n",
    "sns.set_context('talk')\n",
    "sns.histplot(data=df, x=\"Cholesterol\", hue=\"HeartDisease\",multiple=\"stack\",palette=oe)\n",
    "\n",
    "plt.subplot(4,3,8)\n",
    "plt.style.use('seaborn')\n",
    "plt.tight_layout()\n",
    "sns.set_context('talk')\n",
    "sns.histplot(data=df, x=\"RestingBP\", hue=\"HeartDisease\",multiple=\"stack\",palette=oe)\n",
    "\n",
    "plt.subplot(4,3,9)\n",
    "plt.style.use('seaborn')\n",
    "plt.tight_layout()\n",
    "sns.set_context('talk')\n",
    "sns.histplot(data=df, x=\"Age\", hue=\"HeartDisease\",multiple=\"stack\",palette=oe)\n",
    "\n",
    "plt.subplot(4,3,10)\n",
    "plt.style.use('seaborn')\n",
    "plt.tight_layout()\n",
    "sns.set_context('talk')\n",
    "sns.histplot(data=df, x=\"MaxHR\", hue=\"HeartDisease\",multiple=\"stack\",palette=oe)\n",
    "\n",
    "plt.subplot(4,3,11)\n",
    "plt.style.use('seaborn')\n",
    "plt.tight_layout()\n",
    "sns.set_context('talk')\n",
    "sns.histplot(data=df, x=\"Oldpeak\", hue=\"HeartDisease\",multiple=\"stack\",palette=oe)\n",
    "\n",
    "plt.subplot(4,3,12)\n",
    "plt.style.use('seaborn')\n",
    "plt.tight_layout()\n",
    "sns.set_context('talk')\n",
    "sns.histplot(data=df, x=\"FastingBS\", hue=\"HeartDisease\",multiple=\"stack\",palette=oe)\n"
   ]
  },
  {
   "cell_type": "markdown",
   "id": "c7b6d276",
   "metadata": {},
   "source": [
    "## From categorical to numeric"
   ]
  },
  {
   "cell_type": "markdown",
   "id": "9935a2ab",
   "metadata": {},
   "source": [
    "We must convert categorical data to numerical data"
   ]
  },
  {
   "cell_type": "code",
   "execution_count": null,
   "id": "1e5bb2b4",
   "metadata": {},
   "outputs": [],
   "source": [
    "'''\n",
    "I want rappresent the heatmap here\n",
    "Maybe we should do that after clean the dataset or show two differents heatmap: one whitout cholesterol \n",
    "and one only with colesterol, deleting rows with value 0\n",
    "'''\n",
    "onlyNumeric = pd.read_csv('dataset.csv')\n",
    "onlyNumeric = onlyNumeric\n",
    "del onlyNumeric[\"ChestPainType\"]\n",
    "del onlyNumeric[\"RestingECG\"]\n",
    "del onlyNumeric[\"ST_Slope\"]\n",
    "del onlyNumeric[\"ExerciseAngina\"]\n",
    "del onlyNumeric[\"Sex\"]\n",
    "\n",
    "#onlyNumeric.style.background_gradient(cmap ='viridis')\\\n",
    "        #.set_properties(**{'font-size': '20px'})\n",
    "#df.columns\n",
    "#df.drop(df.columns['ChestPainType', 'RestingECG', 'ExerciseAngina','ST_Slope','Sex']), axis=1).set_index('Age')\n",
    "#corr = onlyNumeric.corr()\n",
    "#sns.heatmap(corr, annot = True)\n",
    "#sns.heatmap(onlyNumeric, annot=True)\n",
    "\n",
    "heatmap = sns.heatmap(onlyNumeric.corr(), vmin=-1, vmax=1, annot=True)\n",
    "heatmap.set_title('Correlation Heatmap', fontdict={'fontsize':12}, pad=12);"
   ]
  },
  {
   "cell_type": "markdown",
   "id": "89598b4c",
   "metadata": {},
   "source": [
    "This is useful https://pbpython.com/categorical-encoding.html"
   ]
  },
  {
   "cell_type": "code",
   "execution_count": null,
   "id": "f6b53b00",
   "metadata": {},
   "outputs": [],
   "source": [
    "'''\n",
    "cleanup_nums = {\"Sex\":     {\"M\": 0, \"F\": 1},\n",
    "                \"ChestPainType\": {\"TA\": 0, \"ATA\": 1, \"NAP\": 2, \"ASY\": 8},\n",
    "                \"RestingECG\": {\"Normal\": 0, \"ST\": 1, \"LVH\": 2},\n",
    "                \"ExerciseAngina\": {\"N\": 0, \"Y\": 1},\n",
    "                \"ST_Slope\": {\"Down\": 0, \"Flat\": 1, \"Up\": 2}\n",
    "               }\n",
    "\n",
    "df = df.replace(cleanup_nums)\n",
    "df.head\n",
    "'''\n",
    "df = pd.get_dummies(df)\n",
    "df.head()"
   ]
  },
  {
   "cell_type": "code",
   "execution_count": null,
   "id": "4a95d580",
   "metadata": {},
   "outputs": [],
   "source": [
    "fig, ax = plt.subplots(figsize=(15,15))         # Sample figsize in inches\n",
    "\n",
    "#corr = df.corr()\n",
    "#sns.heatmap(corr, annot = True, linewidths=.5, ax=ax)\n",
    "\n",
    "heatmap = sns.heatmap(df.corr(), vmin=-1, vmax=1, annot=True)\n",
    "heatmap.set_title('Correlation Heatmap', fontdict={'fontsize':12}, pad=12);"
   ]
  },
  {
   "cell_type": "markdown",
   "id": "5259907e",
   "metadata": {},
   "source": [
    "## How can we manage inconsisten values?"
   ]
  },
  {
   "cell_type": "markdown",
   "id": "bd0a1064",
   "metadata": {},
   "source": [
    "This link contains some useful ways:\n",
    "https://www.analyticsvidhya.com/blog/2021/05/dealing-with-missing-values-in-python-a-complete-guide/"
   ]
  },
  {
   "cell_type": "markdown",
   "id": "f55a56b1",
   "metadata": {},
   "source": [
    "### Deleting the columns with missing data"
   ]
  },
  {
   "cell_type": "code",
   "execution_count": null,
   "id": "e0c96ca5",
   "metadata": {},
   "outputs": [],
   "source": [
    "\n",
    "df_noC = df.copy()\n",
    "#df_noC = df_noC.replace(cleanup_nums)\n",
    "df_noC = df_noC.drop(df_noC[df_noC.RestingBP == 0].index)\n",
    "del df_noC[\"Cholesterol\"]\n",
    "#del df_noC[\"RestingBP\"]\n",
    "df_noC.info()\n"
   ]
  },
  {
   "cell_type": "code",
   "execution_count": null,
   "id": "8579165b",
   "metadata": {},
   "outputs": [],
   "source": [
    "df_noC.describe()"
   ]
  },
  {
   "cell_type": "code",
   "execution_count": null,
   "id": "c1836baa",
   "metadata": {},
   "outputs": [],
   "source": [
    "fig, ax = plt.subplots(figsize=(15,15))         # Sample figsize in inches\n",
    "\n",
    "corr = df_noC.corr()\n",
    "sns.heatmap(corr, annot = True, linewidths=.5, ax=ax)"
   ]
  },
  {
   "cell_type": "markdown",
   "id": "7eb5c74b",
   "metadata": {},
   "source": [
    "### Deleting the rows with missing data"
   ]
  },
  {
   "cell_type": "code",
   "execution_count": null,
   "id": "8067a5d1",
   "metadata": {},
   "outputs": [],
   "source": [
    "#df_noR = pd.read_csv('dataset.csv')\n",
    "df_noR = df.drop(df[df.Cholesterol == 0].index)\n",
    "df_noR.info()"
   ]
  },
  {
   "cell_type": "code",
   "execution_count": null,
   "id": "311d2d4a",
   "metadata": {
    "scrolled": true
   },
   "outputs": [],
   "source": [
    "df_noR.describe()"
   ]
  },
  {
   "cell_type": "code",
   "execution_count": null,
   "id": "38eff3a6",
   "metadata": {},
   "outputs": [],
   "source": [
    "df.describe()"
   ]
  },
  {
   "cell_type": "code",
   "execution_count": null,
   "id": "977d57c9",
   "metadata": {},
   "outputs": [],
   "source": [
    "fig, ax = plt.subplots(figsize=(15,15)) \n",
    "corr = df_noR.corr()\n",
    "sns.heatmap(corr, annot = True, linewidths=.5, ax=ax)"
   ]
  },
  {
   "cell_type": "markdown",
   "id": "25879ae8",
   "metadata": {},
   "source": [
    "### Filling the Missing Values – Imputation"
   ]
  },
  {
   "cell_type": "markdown",
   "id": "2c42d26a",
   "metadata": {},
   "source": [
    "WE SHOULD FIND A WAY TO REPLACE 0 WITH THE MEAN VALUE ON CHOLESTEROL AND RESTINGBP"
   ]
  },
  {
   "cell_type": "code",
   "execution_count": null,
   "id": "fa0178e5",
   "metadata": {},
   "outputs": [],
   "source": [
    "'''\n",
    "df_fill = df\n",
    "df_fill.Cholesterol.replace(0, 244.635389)\n",
    "df_fill[\"RestingBP\"].replace(0, 133.022788)\n",
    "df_fill.describe()\n",
    "'''\n",
    "cleanup_inconsisten = {\"Cholesterol\":     {0: 244.635389},\n",
    "                \"RestingBP\":      {0: 133.022788},\n",
    "               }\n",
    "df_mean = df.replace(cleanup_inconsisten)"
   ]
  },
  {
   "cell_type": "code",
   "execution_count": null,
   "id": "2a86aec0",
   "metadata": {},
   "outputs": [],
   "source": [
    "df.describe()"
   ]
  },
  {
   "cell_type": "code",
   "execution_count": null,
   "id": "ad517787",
   "metadata": {},
   "outputs": [],
   "source": [
    "df_mean.describe()"
   ]
  },
  {
   "cell_type": "markdown",
   "id": "1924c660",
   "metadata": {},
   "source": [
    "### Imputation with an additional column"
   ]
  },
  {
   "cell_type": "code",
   "execution_count": null,
   "id": "e26ae9df",
   "metadata": {
    "scrolled": true
   },
   "outputs": [],
   "source": [
    "df_extraC = df.copy()\n",
    "df_extraC['CholesterolIsMissing'] = df_extraC['Cholesterol'] == 0\n",
    "from sklearn.impute import SimpleImputer\n",
    "my_imputer = SimpleImputer(strategy = 'median')\n",
    "#data_new = my_imputer.fit_transform(df_extraC)\n",
    "\n",
    "cleanup_inconsisten = {\"Cholesterol\":     {0: 244.635389},\n",
    "                \"RestingBP\":      {0: 133.022788},\n",
    "                'CholesterolIsMissing': {False: 0, True: 1},\n",
    "               }\n",
    "df_extraC = df_extraC.replace(cleanup_inconsisten)\n",
    "#df_extraC = df_extraC.replace(cleanup_nums)\n",
    "\n",
    "df_extraC.describe()"
   ]
  },
  {
   "cell_type": "code",
   "execution_count": null,
   "id": "750a9d02",
   "metadata": {},
   "outputs": [],
   "source": [
    "oe=['g','r']\n",
    "fig = plt.figure(figsize=(10,10))\n",
    "\n",
    "plt.subplot(1,1,1)\n",
    "plt.style.use('seaborn')\n",
    "plt.tight_layout()\n",
    "sns.set_context('talk')\n",
    "sns.histplot(data=df_extraC, x=\"CholesterolIsMissing\", hue=\"HeartDisease\",multiple=\"stack\",palette=oe)"
   ]
  },
  {
   "cell_type": "markdown",
   "id": "251f6ea4",
   "metadata": {},
   "source": [
    "### Filling with a Regression Model\n",
    "\n",
    "+++ MAYBE THIS IS TOO MUCH +++"
   ]
  },
  {
   "cell_type": "markdown",
   "id": "bbf84dd0",
   "metadata": {},
   "source": [
    "### Results"
   ]
  },
  {
   "cell_type": "code",
   "execution_count": null,
   "id": "41972569",
   "metadata": {},
   "outputs": [],
   "source": [
    "def clean(way, X_train, X_test,y_train,y_test):\n",
    "    my_X_train = X_train.copy()\n",
    "    my_X_test = X_test.copy()\n",
    "    my_y_train = y_train.copy()\n",
    "    my_y_test = y_test.copy()\n",
    "    if way == \"delCols\":\n",
    "        return delCols(my_X_train, my_X_test, my_y_train,my_y_test)\n",
    "    elif way == \"delRows\":\n",
    "        return delRows(my_X_train, my_X_test, my_y_train,my_y_test)\n",
    "    elif way == \"addMean\":\n",
    "        return addMean(my_X_train, my_X_test, my_y_train,my_y_test)\n",
    "    elif way == \"addCol\":\n",
    "        return addCol(my_X_train, my_X_test, my_y_train,my_y_test)\n",
    "    else:\n",
    "        return my_X_train, my_X_test, my_y_train,my_y_test\n",
    "    \n",
    "def delCols(X_train, X_test,y_train,y_test):\n",
    "    y_train = y_train.drop(X_train[X_train.RestingBP==0].index)\n",
    "    X_train = X_train.drop(X_train[X_train.RestingBP==0].index)\n",
    "    y_test = y_test.drop(X_test[X_test.RestingBP==0].index)\n",
    "    X_test = X_test.drop(X_test[X_test.RestingBP==0].index)\n",
    "    del X_train[\"Cholesterol\"]\n",
    "    del X_test[\"Cholesterol\"]\n",
    "    return X_train, X_test,y_train,y_test\n",
    "\n",
    "def delRows(X_train, X_test,y_train,y_test):\n",
    "    y_train = y_train.drop(X_train[X_train.Cholesterol==0].index)\n",
    "    X_train = X_train.drop(X_train[X_train.Cholesterol==0].index)\n",
    "    y_test = y_test.drop(X_test[X_test.Cholesterol==0].index)\n",
    "    X_test = X_test.drop(X_test[X_test.Cholesterol==0].index)\n",
    "    return X_train, X_test,y_train,y_test\n",
    " \n",
    "def addMean(X_train, X_test,y_train,y_test):\n",
    "    cleanup_inconsisten = {\"Cholesterol\":     {0: 244.635389},\n",
    "                \"RestingBP\":      {0: 133.022788},\n",
    "               }\n",
    "    X_train = X_train.replace(cleanup_inconsisten)\n",
    "    X_test = X_test.replace(cleanup_inconsisten)\n",
    "    return X_train, X_test,y_train,y_test    \n",
    "\n",
    "def addCol(X_train, X_test,y_train,y_test):\n",
    "\n",
    "    X_train['CholesterolIsMissing'] = X_train['Cholesterol'] == 0\n",
    "    X_test['CholesterolIsMissing'] = X_test['Cholesterol'] == 0\n",
    "    cleanup_inconsisten = {\"Cholesterol\":     {0: 244.635389},\n",
    "                \"RestingBP\":      {0: 133.022788},\n",
    "                'CholesterolIsMissing': {False: 0, True: 1},\n",
    "               }\n",
    "    X_train = X_train.replace(cleanup_inconsisten)\n",
    "    X_test = X_test.replace(cleanup_inconsisten)\n",
    "    return X_train, X_test, y_train, y_test    \n"
   ]
  },
  {
   "cell_type": "markdown",
   "id": "5a9782df",
   "metadata": {},
   "source": [
    "Applying the **LINEAR REGRESSION**, what is the best dataset?"
   ]
  },
  {
   "cell_type": "code",
   "execution_count": null,
   "id": "393506a5",
   "metadata": {},
   "outputs": [],
   "source": [
    "y = df['HeartDisease']\n",
    "df.drop(\"HeartDisease\",axis=1,inplace=True)\n",
    "X_train, X_test,y_train,y_test = train_test_split(df,y,test_size=0.3)\n",
    "X_train_delCols, X_test_delCols,y_train_delCols,y_test_delCols = clean(\"delCols\", X_train, X_test,y_train,y_test)\n",
    "X_train_delRows, X_test_delRows,y_train_delRows,y_test_delRows = clean(\"delRows\", X_train, X_test,y_train,y_test)\n",
    "X_train_addMean, X_test_addMean,y_train_addMean,y_test_addMean = clean(\"addMean\", X_train, X_test,y_train,y_test)\n",
    "X_train_addCol, X_test_addCol, y_train_addCol, y_test_addCol = clean(\"addCol\", X_train, X_test,y_train,y_test)"
   ]
  },
  {
   "cell_type": "code",
   "execution_count": null,
   "id": "abd4d8ac",
   "metadata": {},
   "outputs": [],
   "source": [
    "X_train_delCols.describe()"
   ]
  },
  {
   "cell_type": "code",
   "execution_count": null,
   "id": "4a384f3b",
   "metadata": {},
   "outputs": [],
   "source": [
    "X_train_delRows.describe()"
   ]
  },
  {
   "cell_type": "code",
   "execution_count": null,
   "id": "ac1680ba",
   "metadata": {},
   "outputs": [],
   "source": [
    "X_train_addMean.describe()"
   ]
  },
  {
   "cell_type": "code",
   "execution_count": null,
   "id": "a8feef0c",
   "metadata": {},
   "outputs": [],
   "source": [
    "X_train_addCol.describe()"
   ]
  },
  {
   "cell_type": "code",
   "execution_count": null,
   "id": "f713bf23",
   "metadata": {},
   "outputs": [],
   "source": [
    "lr = LogisticRegression(max_iter=50000)\n",
    "lr.fit(X_train,y_train)\n",
    "pred = lr.predict(X_test)\n",
    "print(metrics.accuracy_score(pred,y_test))\n",
    "plot_confusion_matrix(lr, X_test, y_test,cmap=\"binary\") \n",
    "plt.grid(False)\n",
    "plt.show()"
   ]
  },
  {
   "cell_type": "code",
   "execution_count": null,
   "id": "e48f1f9c",
   "metadata": {},
   "outputs": [],
   "source": [
    "lr = LogisticRegression(max_iter=50000)\n",
    "lr.fit(X_train_delCols,y_train_delCols)\n",
    "pred = lr.predict(X_test_delCols)\n",
    "print(metrics.accuracy_score(pred,y_test_delCols))\n",
    "plot_confusion_matrix(lr, X_test_delCols, y_test_delCols,cmap=\"binary\") \n",
    "plt.grid(False)\n",
    "plt.show()"
   ]
  },
  {
   "cell_type": "code",
   "execution_count": null,
   "id": "ea38bbc7",
   "metadata": {},
   "outputs": [],
   "source": [
    "lr = LogisticRegression(max_iter=50000)\n",
    "lr.fit(X_train_delRows,y_train_delRows)\n",
    "pred = lr.predict(X_test_delRows)\n",
    "print(metrics.accuracy_score(pred,y_test_delRows))\n",
    "plot_confusion_matrix(lr, X_test_delRows, y_test_delRows,cmap=\"binary\") \n",
    "plt.grid(False)\n",
    "plt.show()"
   ]
  },
  {
   "cell_type": "code",
   "execution_count": null,
   "id": "7339d6ec",
   "metadata": {},
   "outputs": [],
   "source": [
    "lr = LogisticRegression(max_iter=50000)\n",
    "lr.fit(X_train_addMean,y_train_addMean)\n",
    "pred = lr.predict(X_test_addMean)\n",
    "print(metrics.accuracy_score(pred,y_test_addMean))\n",
    "plot_confusion_matrix(lr, X_test_addMean, y_test_addMean,cmap=\"binary\") \n",
    "plt.grid(False)\n",
    "plt.show()"
   ]
  },
  {
   "cell_type": "code",
   "execution_count": null,
   "id": "699ee318",
   "metadata": {},
   "outputs": [],
   "source": [
    "lr = LogisticRegression(max_iter=50000)\n",
    "lr.fit(X_train_addCol,y_train_addCol)\n",
    "pred = lr.predict(X_test_addCol)\n",
    "print(metrics.accuracy_score(pred,y_test_addCol))\n",
    "plot_confusion_matrix(lr, X_test_addCol, y_test_addCol,cmap=\"binary\") \n",
    "plt.grid(False)\n",
    "plt.show()"
   ]
  },
  {
   "cell_type": "markdown",
   "id": "4324930a",
   "metadata": {},
   "source": [
    "# Linear Regression"
   ]
  },
  {
   "cell_type": "code",
   "execution_count": null,
   "id": "e429e9fd",
   "metadata": {},
   "outputs": [],
   "source": []
  }
 ],
 "metadata": {
  "kernelspec": {
   "display_name": "Python 3 (ipykernel)",
   "language": "python",
   "name": "python3"
  },
  "language_info": {
   "codemirror_mode": {
    "name": "ipython",
    "version": 3
   },
   "file_extension": ".py",
   "mimetype": "text/x-python",
   "name": "python",
   "nbconvert_exporter": "python",
   "pygments_lexer": "ipython3",
   "version": "3.9.7"
  }
 },
 "nbformat": 4,
 "nbformat_minor": 5
}
